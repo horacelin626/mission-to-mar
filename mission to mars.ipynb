{
 "cells": [
  {
   "cell_type": "code",
   "execution_count": null,
   "metadata": {},
   "outputs": [],
   "source": [
    "from splinter import Browser\n",
    "from bs4 import BeautifulSoup\n",
    "from selenium import webdriver\n",
    "import pandas as pd\n",
    "import time"
   ]
  },
  {
   "cell_type": "code",
   "execution_count": null,
   "metadata": {},
   "outputs": [],
   "source": [
    "def init_browser():\n",
    "    \n",
    "    executable_path = {'executable_path': '/usr/local/bin/chromedriver'}\n",
    "    browser = Browser('chrome', **executable_path)\n",
    "    "
   ]
  },
  {
   "cell_type": "code",
   "execution_count": null,
   "metadata": {},
   "outputs": [],
   "source": [
    "def scrape():\n",
    "    \n",
    "    mars_data = {}\n",
    "    browser = init_browser()\n",
    "    \n",
    "    url = 'https://mars.nasa.gov/news/'\n",
    "    browser.visit(url)\n",
    "   \n",
    "\n",
    "    \n",
    "    soup_obj = BeautifulSoup(html, \"html.parser\")\n",
    "    news_title = soup_obj.find('li', attrs={'class': 'slide'}).find('div', attrs={'class': 'image_and_description_container'}).find('div', attrs={'class': 'list_text'}).find('div', attrs={'class': 'content_title'}).text\n",
    "    article_teaser_body = soup_obj.find('li', attrs={'class': 'slide'}).find('div', attrs={'class': 'image_and_description_container'}).find('div', attrs={'class': 'list_text'}).find('div', attrs={'class': 'article_teaser_body'}).text\n",
    " \n",
    "    \n",
    "    mars_data[\"news_title\"] = news_title\n",
    "    mars_data[\"article_teaser_body\"] = article_teaser_body\n",
    "    \n",
    "    url2 = \"https://www.jpl.nasa.gov/spaceimages/?search=&category=Mars\"\n",
    "    browser.visit(url2)\n",
    "    \n",
    "    \n",
    "   \n",
    "    soup_obj = BeautifulSoup(html, \"html.parser\")\n",
    "    image = soup_obj.find('li', attrs={'class': 'slide'}).find('a')['data-fancybox-href']\n",
    "    \n",
    "    image_src = \"https://www.jpl.nasa.gov\"+image\n",
    "    \n",
    "    mars_data[\"featured_image_url\"] = image_src\n",
    "    \n",
    "    url3 = \"https://twitter.com/marswxreport?lang=en\"\n",
    "    browser.visit(url3)\n",
    "    html = browser.html\n",
    "    \n",
    "    soup_obj = BeautifulSoup(html, \"html.parser\")\n",
    "    tweet = soup_obj.find('div', attrs={'class': 'js-tweet-text-container'}).find('p').text\n",
    "    mars_data[\"mars_weather\"] = tweet\n",
    "\n",
    "    browser.quit()\n",
    "    \n",
    "    url4 = \"http://space-facts.com/mars/\"\n",
    "    table = pd.read_html(url4)\n",
    "    df = table[0]\n",
    "    df.columns = ['Description','Value']\n",
    "    df.set_index('Description', inplace=True)\n",
    "    mars_facts = df.to_html()\n",
    "    mars_facts = mars_facts.replace('\\n', '')\n",
    "    mars_data[\"mars_facts\"] = mars_data\n",
    "    \n",
    "    print(mars_data) \n",
    "    return mars_data"
   ]
  },
  {
   "cell_type": "code",
   "execution_count": null,
   "metadata": {},
   "outputs": [],
   "source": [
    "scrape()"
   ]
  },
  {
   "cell_type": "code",
   "execution_count": null,
   "metadata": {},
   "outputs": [],
   "source": []
  }
 ],
 "metadata": {
  "kernelspec": {
   "display_name": "Python 3",
   "language": "python",
   "name": "python3"
  },
  "language_info": {
   "codemirror_mode": {
    "name": "ipython",
    "version": 3
   },
   "file_extension": ".py",
   "mimetype": "text/x-python",
   "name": "python",
   "nbconvert_exporter": "python",
   "pygments_lexer": "ipython3",
   "version": "3.7.1"
  }
 },
 "nbformat": 4,
 "nbformat_minor": 2
}
